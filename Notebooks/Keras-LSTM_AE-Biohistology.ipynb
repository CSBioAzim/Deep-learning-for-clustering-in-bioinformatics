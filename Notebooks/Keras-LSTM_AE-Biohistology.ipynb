{
 "cells": [
  {
   "cell_type": "markdown",
   "metadata": {},
   "source": [
    "## LSTM AE based clusteing"
   ]
  },
  {
   "cell_type": "code",
   "execution_count": 219,
   "metadata": {},
   "outputs": [],
   "source": [
    "from time import time\n",
    "from keras.datasets import mnist\n",
    "import numpy as np\n",
    "np.random.seed(10)\n",
    "import numpy as np\n",
    "import keras.backend as K\n",
    "from keras.engine.topology import Layer, InputSpec\n",
    "from keras.layers import Dense, Input\n",
    "from keras.models import Model\n",
    "from keras.optimizers import SGD\n",
    "from keras import callbacks\n",
    "from keras.initializers import VarianceScaling\n",
    "from sklearn.cluster import KMeans\n",
    "import metrics\n",
    "\n",
    "from keras.models import Model\n",
    "from keras import backend as K\n",
    "from keras import layers\n",
    "from keras.layers import Input, Dense, Conv2D, MaxPooling2D, UpSampling2D, Flatten, Reshape, Conv2DTranspose\n",
    "from keras.models import Model\n",
    "import numpy as np\n",
    "import os \n",
    "from keras.preprocessing.image import load_img\n",
    "from skimage import transform \n",
    "import _pickle as cPickle\n",
    "import _pickle \n",
    "import seaborn as sns\n",
    "import sklearn.metrics\n",
    "import matplotlib.pyplot as plt\n",
    "from sklearn.manifold import TSNE\n",
    "%matplotlib inline\n",
    "import gzip\n",
    "from skimage import transform \n",
    "import numpy as np\n",
    "from PIL import Image\n",
    "import matplotlib\n",
    "import os\n",
    "# For plotting graphs via ssh with no display\n",
    "# Ref: https://stackoverflow.com/questions/2801882/generating-a-png-with-matplotlib-when-display-is-undefined\n",
    "matplotlib.use('Agg')\n",
    "from keras.preprocessing.image import load_img\n",
    "from matplotlib import pyplot as plt\n",
    "from numpy import float32\n",
    "from sklearn import metrics\n",
    "from sklearn.cluster.k_means_ import KMeans\n",
    "from sklearn import manifold\n",
    "from sklearn.utils.linear_assignment_ import linear_assignment\n",
    "from sklearn import preprocessing\n",
    "from sklearn.utils import shuffle"
   ]
  },
  {
   "cell_type": "markdown",
   "metadata": {},
   "source": [
    "### Load breast biohistology images for convolutional input"
   ]
  },
  {
   "cell_type": "code",
   "execution_count": 220,
   "metadata": {},
   "outputs": [],
   "source": [
    "def loadDataset():\n",
    "    data= []\n",
    "    labels =[]\n",
    "    root ='/home/rkarim/Training_data/'\n",
    "\n",
    "    for rootName,dirName,fileNames in os.walk(root):\n",
    "        if(not rootName == root):\n",
    "            for fileName in fileNames:\n",
    "                imgGray = load_img(rootName+'/'+fileName,color_mode='grayscale')\n",
    "                if rootName.split('/')[1] == 'Benign':\n",
    "                    labels+=[0]\n",
    "                elif rootName.split('/')[1]== 'InSitu':\n",
    "                    labels+=[1]\n",
    "                elif rootName.split('/')[1]  == 'Invasive':\n",
    "                    labels+=[2]\n",
    "                else:\n",
    "                    labels+=[3]\n",
    "                  \n",
    "                transformed=transform.resize(np.array(imgGray),(508,508))\n",
    "                data += [transformed.reshape((transformed.shape[0],transformed.shape[1],1))]        \n",
    "          \n",
    "    data = np.stack(data)\n",
    "    labels = np.stack(labels)\n",
    "    #data,labels = shuffle(data,labels,random_state = 0)\n",
    "    \n",
    "    return [data,labels]"
   ]
  },
  {
   "cell_type": "code",
   "execution_count": 221,
   "metadata": {},
   "outputs": [],
   "source": [
    "x, y =  loadDataset()"
   ]
  },
  {
   "cell_type": "code",
   "execution_count": 222,
   "metadata": {},
   "outputs": [],
   "source": [
    "y = [0, 0, 0, 0, 0, 0, 0, 0, 0, 0, 0, 0, 0, 0, 0, 0, 0, 0, 0, 0, 0, 0, 0, 0, 0, 0, 0, 0, \n",
    "     0, 0, 0, 0, 0, 0, 0, 0, 0, 0, 0, 0, 0, 0, 0, 0, 0, 0, 0, 0, 0, 0, 0, 0, 0, 0, 0, 0, \n",
    "     0, 0, 0, 0, 0, 0, 0, 0, 0, 0, 0, 0, 0, 0, 0, 0, 0, 0, 1, 1, 1, 1, 1, 1, 1, 1, 1, 1, \n",
    "     1, 1, 1, 1, 1, 1, 1, 1, 1, 1, 1, 1, 1, 1, 1, 1, 1, 1, 1, 1, 1, 1, 1, 1, 1, 1, 1, 1, \n",
    "     1, 1, 1, 1, 1, 1, 1, 1, 1, 1, 1, 1, 1, 1, 1, 1, 1, 1, 1, 1, 1, 1, 1, 1, 1, 1, 1, 1, \n",
    "     1, 1, 2, 2, 2, 2, 2, 2, 2, 2, 2, 2, 2, 2, 2, 2, 2, 2, 2, 2, 2, 2, 2, 2, 2, 2, 2, 2, \n",
    "     2, 2, 2, 2, 2, 2, 2, 2, 2, 2, 2, 2, 2, 2, 2, 2, 2, 2, 2, 2, 2, 2, 2, 2, 2, 2, 2, 2, \n",
    "     2, 2, 2, 2, 2, 2, 2, 2, 2, 2, 2, 3, 3, 3, 3, 3, 3, 3, 3, 3, 3, 3, 3, 3, 3, 3, 3, 3, \n",
    "     3, 3, 3, 3, 3, 3, 3, 3, 3, 3, 3, 3, 3, 3, 3, 3, 3, 3, 3, 3, 3, 3, 3, 3, 3, 3, 3, 3, \n",
    "     3, 3, 3, 3, 3, 3, 3, 3, 3, 3, 3, 3, 3, 3]\n",
    "\n",
    "y = np.array(y)"
   ]
  },
  {
   "cell_type": "code",
   "execution_count": 223,
   "metadata": {},
   "outputs": [],
   "source": [
    "data = x.astype('float32') / 255.\n",
    "#x = np.reshape(x, (len(x), 508, 508))  # adapt this if using `channels_first` image data format\n",
    "data.shape\n",
    "data = np.reshape(data, (len(data), 508, 508))"
   ]
  },
  {
   "cell_type": "code",
   "execution_count": 224,
   "metadata": {},
   "outputs": [
    {
     "name": "stdout",
     "output_type": "stream",
     "text": [
      "Number of cluster: 4\n",
      "Input shape: (266, 508, 508)\n",
      "Timestep: 266\n",
      "Data dimension: 508\n"
     ]
    }
   ],
   "source": [
    "n_clusters = len(np.unique(y))\n",
    "print(\"Number of cluster: \" + str(n_clusters))\n",
    "print(\"Input shape: \" + str(data.shape))\n",
    "\n",
    "print(\"Timestep: \" + str(data.shape[0]))\n",
    "print(\"Data dimension: \" + str(data.shape[1]))"
   ]
  },
  {
   "cell_type": "code",
   "execution_count": 97,
   "metadata": {},
   "outputs": [],
   "source": [
    "from keras.datasets import mnist\n",
    "(x_train, y_train), (x_test, y_test) = mnist.load_data()\n",
    "\n",
    "x_train = x_train.astype('float32') / 255.\n",
    "x_test = x_test.astype('float32') / 255.\n",
    "x_train = np.reshape(x_train, (len(x_train), 28, 28))  # adapt this if using `channels_first` image data format\n",
    "x_test = np.reshape(x_test, (len(x_test), 28, 28))  # adapt this if using `channels_first` image data format\n",
    "\n",
    "x = np.concatenate((x_train, x_test))\n",
    "y = np.concatenate((y_train, y_test))"
   ]
  },
  {
   "cell_type": "code",
   "execution_count": 98,
   "metadata": {},
   "outputs": [
    {
     "name": "stdout",
     "output_type": "stream",
     "text": [
      "Number of cluster: 10\n",
      "Input shape: (70000, 28, 28)\n",
      "Timestep: 70000\n",
      "Data dimension: 28\n"
     ]
    }
   ],
   "source": [
    "n_clusters = len(np.unique(y))\n",
    "print(\"Number of cluster: \" + str(n_clusters))\n",
    "print(\"Input shape: \" + str(x.shape))\n",
    "\n",
    "print(\"Timestep: \" + str(x.shape[0]))\n",
    "print(\"Data dimension: \" + str(x.shape[1]))"
   ]
  },
  {
   "cell_type": "code",
   "execution_count": 225,
   "metadata": {},
   "outputs": [],
   "source": [
    "init = VarianceScaling(scale=1. / 3., mode='fan_in', distribution='uniform')\n",
    "\n",
    "import keras\n",
    "from keras import backend as K\n",
    "from keras.models import Sequential, Model\n",
    "from keras.layers import Input, LSTM, RepeatVector\n",
    "from keras.layers.core import Flatten, Dense, Dropout, Lambda\n",
    "from keras.optimizers import SGD, RMSprop, Adam\n",
    "from keras import objectives\n",
    "from keras.models import Sequential\n",
    "from keras.layers import LSTM\n",
    "from keras.layers import Dense\n",
    "from keras.layers import RepeatVector\n",
    "from keras.layers import TimeDistributed\n",
    "\n",
    "def LSTM_AE(timesteps, n_features):\n",
    "    \"\"\"\n",
    "    Creates an LSTM Autoencoder (VAE). Returns Autoencoder, Encoder, Generator. \n",
    "    (All code by fchollet - see reference.)\n",
    "    # Arguments\n",
    "        input_dim: int.\n",
    "        timesteps: int, input timestep dimension.\n",
    "        latent_dim: int, latent z-layer shape. \n",
    "    # References\n",
    "        - [Building Autoencoders in Keras](https://blog.keras.io/building-autoencoders-in-keras.html)\n",
    "    \"\"\"\n",
    "\n",
    "    inputs = Input(shape=(timesteps, n_features))\n",
    "    \n",
    "    encoded = LSTM(128, activation='relu',return_sequences=True)(inputs)\n",
    "    encoded = LSTM(64, activation='relu',return_sequences=False)(encoded)\n",
    "    \n",
    "    decoded = RepeatVector(timesteps)(encoded)    \n",
    "    decoded = LSTM(64, activation='relu', return_sequences=True)(decoded)\n",
    "    decoded = LSTM(128, activation='relu', return_sequences=True)(decoded)\n",
    "    decoded = TimeDistributed(Dense(n_features))(decoded)\n",
    "    \n",
    "    return Model(inputs=inputs, outputs=decoded, name='LSTM_AE'), Model(inputs=inputs, outputs=encoded, name='encoder')"
   ]
  },
  {
   "cell_type": "code",
   "execution_count": 226,
   "metadata": {},
   "outputs": [
    {
     "name": "stdout",
     "output_type": "stream",
     "text": [
      "_________________________________________________________________\n",
      "Layer (type)                 Output Shape              Param #   \n",
      "=================================================================\n",
      "input_43 (InputLayer)        (None, 508, 508)          0         \n",
      "_________________________________________________________________\n",
      "lstm_61 (LSTM)               (None, 508, 128)          326144    \n",
      "_________________________________________________________________\n",
      "lstm_62 (LSTM)               (None, 64)                49408     \n",
      "_________________________________________________________________\n",
      "repeat_vector_14 (RepeatVect (None, 508, 64)           0         \n",
      "_________________________________________________________________\n",
      "lstm_63 (LSTM)               (None, 508, 64)           33024     \n",
      "_________________________________________________________________\n",
      "lstm_64 (LSTM)               (None, 508, 128)          98816     \n",
      "_________________________________________________________________\n",
      "time_distributed_6 (TimeDist (None, 508, 508)          65532     \n",
      "=================================================================\n",
      "Total params: 572,924\n",
      "Trainable params: 572,924\n",
      "Non-trainable params: 0\n",
      "_________________________________________________________________\n"
     ]
    }
   ],
   "source": [
    "timesteps =  data.shape[1] # equal to the lookback\n",
    "n_features =  data.shape[2] # 59\n",
    "\n",
    "autoencoder, encoder = LSTM_AE(timesteps, n_features)\n",
    "autoencoder.summary()"
   ]
  },
  {
   "cell_type": "markdown",
   "metadata": {},
   "source": [
    "### Pretrain LSTM autoencoder"
   ]
  },
  {
   "cell_type": "code",
   "execution_count": 248,
   "metadata": {},
   "outputs": [],
   "source": [
    "pretrain_epochs = 100\n",
    "batch_size = 128\n",
    "save_dir = 'results/'"
   ]
  },
  {
   "cell_type": "code",
   "execution_count": 249,
   "metadata": {},
   "outputs": [],
   "source": [
    "autoencoder.compile(optimizer='adam', loss='mse')"
   ]
  },
  {
   "cell_type": "code",
   "execution_count": 250,
   "metadata": {
    "scrolled": true
   },
   "outputs": [
    {
     "name": "stdout",
     "output_type": "stream",
     "text": [
      "Epoch 1/100\n",
      "266/266 [==============================] - 9s 34ms/step - loss: 4.6612e-07\n",
      "Epoch 2/100\n",
      "266/266 [==============================] - 6s 22ms/step - loss: 4.5406e-07\n",
      "Epoch 3/100\n",
      "266/266 [==============================] - 6s 22ms/step - loss: 4.2044e-07\n",
      "Epoch 4/100\n",
      "266/266 [==============================] - 6s 22ms/step - loss: 4.2054e-07\n",
      "Epoch 5/100\n",
      "266/266 [==============================] - 6s 22ms/step - loss: 4.2121e-07\n",
      "Epoch 6/100\n",
      "266/266 [==============================] - 6s 22ms/step - loss: 4.1501e-07\n",
      "Epoch 7/100\n",
      "266/266 [==============================] - 6s 22ms/step - loss: 4.1442e-07\n",
      "Epoch 8/100\n",
      "266/266 [==============================] - 6s 22ms/step - loss: 4.1357e-07\n",
      "Epoch 9/100\n",
      "266/266 [==============================] - 6s 22ms/step - loss: 4.1283e-07\n",
      "Epoch 10/100\n",
      "266/266 [==============================] - 6s 22ms/step - loss: 4.1154e-07\n",
      "Epoch 11/100\n",
      "266/266 [==============================] - 6s 22ms/step - loss: 4.1120e-07\n",
      "Epoch 12/100\n",
      "266/266 [==============================] - 6s 22ms/step - loss: 4.1074e-07\n",
      "Epoch 13/100\n",
      "266/266 [==============================] - 6s 22ms/step - loss: 4.1022e-07\n",
      "Epoch 14/100\n",
      "266/266 [==============================] - 6s 22ms/step - loss: 4.1053e-07\n",
      "Epoch 15/100\n",
      "266/266 [==============================] - 6s 22ms/step - loss: 4.1051e-07\n",
      "Epoch 16/100\n",
      "266/266 [==============================] - 6s 22ms/step - loss: 4.1032e-07\n",
      "Epoch 17/100\n",
      "266/266 [==============================] - 6s 22ms/step - loss: 4.1091e-07\n",
      "Epoch 18/100\n",
      "266/266 [==============================] - 6s 22ms/step - loss: 4.1002e-07\n",
      "Epoch 19/100\n",
      "266/266 [==============================] - 6s 22ms/step - loss: 4.0969e-07\n",
      "Epoch 20/100\n",
      "266/266 [==============================] - 6s 22ms/step - loss: 4.1545e-07\n",
      "Epoch 21/100\n",
      "266/266 [==============================] - 6s 22ms/step - loss: 4.1020e-07\n",
      "Epoch 22/100\n",
      "266/266 [==============================] - 6s 22ms/step - loss: 4.1422e-07\n",
      "Epoch 23/100\n",
      "266/266 [==============================] - 6s 22ms/step - loss: 4.1500e-07\n",
      "Epoch 24/100\n",
      "266/266 [==============================] - 6s 22ms/step - loss: 4.1583e-07\n",
      "Epoch 25/100\n",
      "266/266 [==============================] - 6s 22ms/step - loss: 4.1591e-07\n",
      "Epoch 26/100\n",
      "266/266 [==============================] - 6s 22ms/step - loss: 4.1557e-07\n",
      "Epoch 27/100\n",
      "266/266 [==============================] - 6s 22ms/step - loss: 4.1535e-07\n",
      "Epoch 28/100\n",
      "266/266 [==============================] - 6s 22ms/step - loss: 4.1832e-07\n",
      "Epoch 29/100\n",
      "266/266 [==============================] - 6s 22ms/step - loss: 4.1702e-07\n",
      "Epoch 30/100\n",
      "266/266 [==============================] - 6s 22ms/step - loss: 4.1472e-07\n",
      "Epoch 31/100\n",
      "266/266 [==============================] - 6s 22ms/step - loss: 4.1522e-07\n",
      "Epoch 32/100\n",
      "266/266 [==============================] - 6s 22ms/step - loss: 4.1276e-07\n",
      "Epoch 33/100\n",
      "266/266 [==============================] - 6s 22ms/step - loss: 4.1317e-07\n",
      "Epoch 34/100\n",
      "266/266 [==============================] - 6s 22ms/step - loss: 4.1503e-07\n",
      "Epoch 35/100\n",
      "266/266 [==============================] - 6s 22ms/step - loss: 4.1199e-07\n",
      "Epoch 36/100\n",
      "266/266 [==============================] - 6s 22ms/step - loss: 4.1088e-07\n",
      "Epoch 37/100\n",
      "266/266 [==============================] - 6s 22ms/step - loss: 4.1208e-07\n",
      "Epoch 38/100\n",
      "266/266 [==============================] - 6s 22ms/step - loss: 4.1116e-07\n",
      "Epoch 39/100\n",
      "266/266 [==============================] - 6s 22ms/step - loss: 4.1622e-07\n",
      "Epoch 40/100\n",
      "266/266 [==============================] - 6s 22ms/step - loss: 4.1533e-07\n",
      "Epoch 41/100\n",
      "266/266 [==============================] - 6s 22ms/step - loss: 4.1538e-07\n",
      "Epoch 42/100\n",
      "266/266 [==============================] - 6s 22ms/step - loss: 4.1704e-07\n",
      "Epoch 43/100\n",
      "266/266 [==============================] - 6s 22ms/step - loss: 4.1183e-07\n",
      "Epoch 44/100\n",
      "266/266 [==============================] - 6s 22ms/step - loss: 4.2672e-07\n",
      "Epoch 45/100\n",
      "266/266 [==============================] - 6s 22ms/step - loss: 4.1429e-07\n",
      "Epoch 46/100\n",
      "266/266 [==============================] - 6s 22ms/step - loss: 4.1159e-07\n",
      "Epoch 47/100\n",
      "266/266 [==============================] - 6s 22ms/step - loss: 4.1601e-07\n",
      "Epoch 48/100\n",
      "266/266 [==============================] - 6s 22ms/step - loss: 4.2467e-07\n",
      "Epoch 49/100\n",
      "266/266 [==============================] - 6s 22ms/step - loss: 4.2066e-07\n",
      "Epoch 50/100\n",
      "266/266 [==============================] - 6s 22ms/step - loss: 4.1667e-07\n",
      "Epoch 51/100\n",
      "266/266 [==============================] - 6s 22ms/step - loss: 4.4597e-07\n",
      "Epoch 52/100\n",
      "266/266 [==============================] - 6s 22ms/step - loss: 4.2495e-07\n",
      "Epoch 53/100\n",
      "266/266 [==============================] - 6s 22ms/step - loss: 4.2053e-07\n",
      "Epoch 54/100\n",
      "266/266 [==============================] - 6s 22ms/step - loss: 4.1923e-07\n",
      "Epoch 55/100\n",
      "266/266 [==============================] - 6s 22ms/step - loss: 4.3471e-07\n",
      "Epoch 56/100\n",
      "266/266 [==============================] - 6s 22ms/step - loss: 4.1962e-07\n",
      "Epoch 57/100\n",
      "266/266 [==============================] - 6s 22ms/step - loss: 4.2185e-07\n",
      "Epoch 58/100\n",
      "266/266 [==============================] - 6s 22ms/step - loss: 4.1847e-07\n",
      "Epoch 59/100\n",
      "266/266 [==============================] - 6s 22ms/step - loss: 4.1436e-07\n",
      "Epoch 60/100\n",
      "266/266 [==============================] - 6s 22ms/step - loss: 4.2154e-07\n",
      "Epoch 61/100\n",
      "266/266 [==============================] - 6s 22ms/step - loss: 4.1636e-07\n",
      "Epoch 62/100\n",
      "266/266 [==============================] - 6s 22ms/step - loss: 4.1364e-07\n",
      "Epoch 63/100\n",
      "266/266 [==============================] - 6s 22ms/step - loss: 4.1834e-07\n",
      "Epoch 64/100\n",
      "266/266 [==============================] - 6s 22ms/step - loss: 4.4518e-07\n",
      "Epoch 65/100\n",
      "266/266 [==============================] - 6s 22ms/step - loss: 4.3170e-07\n",
      "Epoch 66/100\n",
      "266/266 [==============================] - 6s 22ms/step - loss: 4.2525e-07\n",
      "Epoch 67/100\n",
      "266/266 [==============================] - 6s 22ms/step - loss: 4.2588e-07\n",
      "Epoch 68/100\n",
      "266/266 [==============================] - 6s 22ms/step - loss: 4.2077e-07\n",
      "Epoch 69/100\n",
      "266/266 [==============================] - 6s 22ms/step - loss: 4.1622e-07\n",
      "Epoch 70/100\n",
      "266/266 [==============================] - 6s 22ms/step - loss: 4.1278e-07\n",
      "Epoch 71/100\n",
      "266/266 [==============================] - 6s 22ms/step - loss: 4.1756e-07\n",
      "Epoch 72/100\n",
      "266/266 [==============================] - 6s 22ms/step - loss: 4.1509e-07\n",
      "Epoch 73/100\n",
      "266/266 [==============================] - 6s 22ms/step - loss: 4.1306e-07\n",
      "Epoch 74/100\n",
      "266/266 [==============================] - 6s 22ms/step - loss: 4.1629e-07\n",
      "Epoch 75/100\n",
      "266/266 [==============================] - 6s 22ms/step - loss: 4.1615e-07\n",
      "Epoch 76/100\n",
      "266/266 [==============================] - 6s 22ms/step - loss: 4.1303e-07\n",
      "Epoch 77/100\n",
      "266/266 [==============================] - 6s 22ms/step - loss: 4.1585e-07\n",
      "Epoch 78/100\n",
      "266/266 [==============================] - 6s 22ms/step - loss: 4.1542e-07\n",
      "Epoch 79/100\n",
      "266/266 [==============================] - 6s 22ms/step - loss: 4.1466e-07\n",
      "Epoch 80/100\n",
      "266/266 [==============================] - 6s 22ms/step - loss: 4.1738e-07\n",
      "Epoch 81/100\n",
      "266/266 [==============================] - 6s 22ms/step - loss: 4.1670e-07\n",
      "Epoch 82/100\n",
      "266/266 [==============================] - 6s 22ms/step - loss: 4.4205e-07\n",
      "Epoch 83/100\n",
      "266/266 [==============================] - 6s 22ms/step - loss: 4.2353e-07\n",
      "Epoch 84/100\n",
      "266/266 [==============================] - 6s 22ms/step - loss: 4.2101e-07\n",
      "Epoch 85/100\n",
      "266/266 [==============================] - 6s 22ms/step - loss: 4.1724e-07\n",
      "Epoch 86/100\n",
      "266/266 [==============================] - 6s 22ms/step - loss: 4.1790e-07\n",
      "Epoch 87/100\n",
      "266/266 [==============================] - 6s 22ms/step - loss: 4.1646e-07\n",
      "Epoch 88/100\n",
      "266/266 [==============================] - 6s 22ms/step - loss: 4.1661e-07\n",
      "Epoch 89/100\n",
      "266/266 [==============================] - 6s 22ms/step - loss: 4.3181e-07\n",
      "Epoch 90/100\n",
      "266/266 [==============================] - 6s 22ms/step - loss: 4.1996e-07\n",
      "Epoch 91/100\n",
      "266/266 [==============================] - 6s 22ms/step - loss: 4.1620e-07\n",
      "Epoch 92/100\n",
      "266/266 [==============================] - 6s 22ms/step - loss: 4.1678e-07\n",
      "Epoch 93/100\n",
      "266/266 [==============================] - 6s 22ms/step - loss: 4.1826e-07\n",
      "Epoch 94/100\n",
      "266/266 [==============================] - 6s 22ms/step - loss: 4.1991e-07\n",
      "Epoch 95/100\n",
      "266/266 [==============================] - 6s 22ms/step - loss: 4.1729e-07\n",
      "Epoch 96/100\n",
      "266/266 [==============================] - 6s 22ms/step - loss: 4.1463e-07\n",
      "Epoch 97/100\n",
      "266/266 [==============================] - 6s 22ms/step - loss: 4.1316e-07\n",
      "Epoch 98/100\n",
      "266/266 [==============================] - 6s 22ms/step - loss: 4.1318e-07\n",
      "Epoch 99/100\n",
      "266/266 [==============================] - 6s 22ms/step - loss: 4.1155e-07\n",
      "Epoch 100/100\n",
      "266/266 [==============================] - 6s 22ms/step - loss: 4.2176e-07\n"
     ]
    }
   ],
   "source": [
    "autoencoder.fit(data, data, batch_size=batch_size, epochs=pretrain_epochs)\n",
    "autoencoder.save_weights(save_dir+'/conv_ae_weights.h5')"
   ]
  },
  {
   "cell_type": "code",
   "execution_count": 251,
   "metadata": {},
   "outputs": [],
   "source": [
    "autoencoder.load_weights(save_dir+'/conv_ae_weights.h5')"
   ]
  },
  {
   "cell_type": "markdown",
   "metadata": {},
   "source": [
    "### Build clustering model with convolutional autoencoder"
   ]
  },
  {
   "cell_type": "code",
   "execution_count": 252,
   "metadata": {},
   "outputs": [],
   "source": [
    "class ClusteringLayer(Layer):\n",
    "    \"\"\"\n",
    "    Clustering layer converts input sample (feature) to soft label, i.e. a vector that represents the probability of the\n",
    "    sample belonging to each cluster. The probability is calculated with student's t-distribution.\n",
    "\n",
    "    # Example\n",
    "    ```\n",
    "        model.add(ClusteringLayer(n_clusters=10))\n",
    "    ```\n",
    "    # Arguments\n",
    "        n_clusters: number of clusters.\n",
    "        weights: list of Numpy array with shape `(n_clusters, n_features)` witch represents the initial cluster centers.\n",
    "        alpha: degrees of freedom parameter in Student's t-distribution. Default to 1.0.\n",
    "    # Input shape\n",
    "        2D tensor with shape: `(n_samples, n_features)`.\n",
    "    # Output shape\n",
    "        2D tensor with shape: `(n_samples, n_clusters)`.\n",
    "    \"\"\"\n",
    "\n",
    "    def __init__(self, n_clusters, weights=None, alpha=1.0, **kwargs):\n",
    "        if 'input_shape' not in kwargs and 'input_dim' in kwargs:\n",
    "            kwargs['input_shape'] = (kwargs.pop('input_dim'),)\n",
    "        super(ClusteringLayer, self).__init__(**kwargs)\n",
    "        self.n_clusters = n_clusters\n",
    "        self.alpha = alpha\n",
    "        self.initial_weights = weights\n",
    "        self.input_spec = InputSpec(ndim=2)\n",
    "\n",
    "    def build(self, input_shape):\n",
    "        assert len(input_shape) == 2\n",
    "        input_dim = input_shape[1]\n",
    "        self.input_spec = InputSpec(dtype=K.floatx(), shape=(None, input_dim))\n",
    "        self.clusters = self.add_weight((self.n_clusters, input_dim), initializer='glorot_uniform', name='clusters')\n",
    "        if self.initial_weights is not None:\n",
    "            self.set_weights(self.initial_weights)\n",
    "            del self.initial_weights\n",
    "        self.built = True\n",
    "\n",
    "    def call(self, inputs, **kwargs):\n",
    "        \"\"\" student t-distribution, as same as used in t-SNE algorithm.\n",
    "         Measure the similarity between embedded point z_i and centroid µ_j.\n",
    "                 q_ij = 1/(1+dist(x_i, µ_j)^2), then normalize it.\n",
    "                 q_ij can be interpreted as the probability of assigning sample i to cluster j.\n",
    "                 (i.e., a soft assignment)\n",
    "        Arguments:\n",
    "            inputs: the variable containing data, shape=(n_samples, n_features)\n",
    "        Return:\n",
    "            q: student's t-distribution, or soft labels for each sample. shape=(n_samples, n_clusters)\n",
    "        \"\"\"\n",
    "        q = 1.0 / (1.0 + (K.sum(K.square(K.expand_dims(inputs, axis=1) - self.clusters), axis=2) / self.alpha))\n",
    "        q **= (self.alpha + 1.0) / 2.0\n",
    "        q = K.transpose(K.transpose(q) / K.sum(q, axis=1)) # Make sure each sample's 10 values add up to 1.\n",
    "        return q\n",
    "\n",
    "    def compute_output_shape(self, input_shape):\n",
    "        assert input_shape and len(input_shape) == 2\n",
    "        return input_shape[0], self.n_clusters\n",
    "\n",
    "    def get_config(self):\n",
    "        config = {'n_clusters': self.n_clusters}\n",
    "        base_config = super(ClusteringLayer, self).get_config()\n",
    "        return dict(list(base_config.items()) + list(config.items()))"
   ]
  },
  {
   "cell_type": "code",
   "execution_count": 253,
   "metadata": {},
   "outputs": [],
   "source": [
    "clustering_layer = ClusteringLayer(n_clusters, name='clustering')(encoder.output)\n",
    "model = Model(inputs=encoder.input, outputs=clustering_layer)\n",
    "model.compile(optimizer='adam', loss='kld')"
   ]
  },
  {
   "cell_type": "markdown",
   "metadata": {},
   "source": [
    "### Step 1: initialize cluster centers using k-means"
   ]
  },
  {
   "cell_type": "code",
   "execution_count": 254,
   "metadata": {},
   "outputs": [],
   "source": [
    "kmeans = KMeans(n_clusters=n_clusters, n_init=5)\n",
    "y_pred_kmeans = kmeans.fit_predict(encoder.predict(data))"
   ]
  },
  {
   "cell_type": "code",
   "execution_count": 255,
   "metadata": {},
   "outputs": [
    {
     "data": {
      "text/plain": [
       "0.24436090225563908"
      ]
     },
     "execution_count": 255,
     "metadata": {},
     "output_type": "execute_result"
    }
   ],
   "source": [
    "metrics.accuracy_score(y, y_pred_kmeans)"
   ]
  },
  {
   "cell_type": "code",
   "execution_count": 256,
   "metadata": {},
   "outputs": [],
   "source": [
    "y_pred_last = np.copy(y_pred_kmeans)"
   ]
  },
  {
   "cell_type": "code",
   "execution_count": 257,
   "metadata": {},
   "outputs": [],
   "source": [
    "model.get_layer(name='clustering').set_weights([kmeans.cluster_centers_])"
   ]
  },
  {
   "cell_type": "markdown",
   "metadata": {},
   "source": [
    "### Step 2: deep clustering"
   ]
  },
  {
   "cell_type": "code",
   "execution_count": 258,
   "metadata": {},
   "outputs": [],
   "source": [
    "#computing an auxiliary target distribution\n",
    "def target_distribution(q):\n",
    "    weight = q ** 2 / q.sum(0)\n",
    "    return (weight.T / weight.sum(1)).T"
   ]
  },
  {
   "cell_type": "code",
   "execution_count": 259,
   "metadata": {},
   "outputs": [],
   "source": [
    "loss = 0\n",
    "index = 0\n",
    "maxiter = 10000\n",
    "update_interval = 10\n",
    "index_array = np.arange(data.shape[0])"
   ]
  },
  {
   "cell_type": "code",
   "execution_count": 260,
   "metadata": {},
   "outputs": [],
   "source": [
    "tol = 0.01 # tolerance threshold to stop training"
   ]
  },
  {
   "cell_type": "markdown",
   "metadata": {},
   "source": [
    "### Start training"
   ]
  },
  {
   "cell_type": "code",
   "execution_count": 261,
   "metadata": {},
   "outputs": [
    {
     "name": "stdout",
     "output_type": "stream",
     "text": [
      "Iter 0: acc = 0.25188, nmi = 0.01993, ari = 0.00302  ; loss= 0\n",
      "Iter 10: acc = 0.25188, nmi = 0.01993, ari = 0.00302  ; loss= 0.0\n",
      "delta_label  0.0 < tol  0.01\n",
      "Reached tolerance threshold. Stopping training.\n"
     ]
    }
   ],
   "source": [
    "for ite in range(int(maxiter)):\n",
    "    if ite % update_interval == 0:\n",
    "        q = model.predict(data, verbose=0)\n",
    "        p = target_distribution(q)  # update the auxiliary target distribution p\n",
    "\n",
    "        # evaluate the clustering performance\n",
    "        y_pred = q.argmax(1)\n",
    "        if y is not None:\n",
    "            acc = np.round(metrics.accuracy_score(y, y_pred), 5)\n",
    "            nmi = np.round(metrics.mutual_info_score(y, y_pred), 5)\n",
    "            ari = np.round(metrics.adjusted_rand_score(y, y_pred), 5)\n",
    "            loss = np.round(loss, 5)\n",
    "            print('Iter %d: acc = %.5f, nmi = %.5f, ari = %.5f' % (ite, acc, nmi, ari), ' ; loss=', loss)\n",
    "\n",
    "        # check stop criterion\n",
    "        delta_label = np.sum(y_pred != y_pred_last).astype(np.float32) / y_pred.shape[0]\n",
    "        y_pred_last = np.copy(y_pred)\n",
    "        if ite > 0 and delta_label < tol:\n",
    "            print('delta_label ', delta_label, '< tol ', tol)\n",
    "            print('Reached tolerance threshold. Stopping training.')\n",
    "            break\n",
    "    idx = index_array[index * batch_size: min((index+1) * batch_size, data.shape[0])]\n",
    "    loss = model.train_on_batch(x=data[idx], y=p[idx])\n",
    "    index = index + 1 if (index + 1) * batch_size <= data.shape[0] else 0\n",
    "\n",
    "model.save_weights(save_dir + '/conv_DEC_model_final.h5')"
   ]
  },
  {
   "cell_type": "markdown",
   "metadata": {},
   "source": [
    "### Load the clustering model trained weights"
   ]
  },
  {
   "cell_type": "code",
   "execution_count": 262,
   "metadata": {},
   "outputs": [],
   "source": [
    "model.load_weights(save_dir + '/conv_DEC_model_final.h5')"
   ]
  },
  {
   "cell_type": "markdown",
   "metadata": {},
   "source": [
    "### Final Evaluation"
   ]
  },
  {
   "cell_type": "code",
   "execution_count": 263,
   "metadata": {},
   "outputs": [
    {
     "name": "stdout",
     "output_type": "stream",
     "text": [
      "Acc = 0.25000, nmi = 0.02000, ari = 0.00000  ; loss= 0.0\n"
     ]
    }
   ],
   "source": [
    "#Eval.\n",
    "\n",
    "q = model.predict(data, verbose=0)\n",
    "p = target_distribution(q)  # update the auxiliary target distribution p\n",
    "\n",
    "# evaluate the clustering performance\n",
    "y_pred = q.argmax(1)\n",
    "if y is not None:\n",
    "    acc = np.round(metrics.accuracy_score(y, y_pred), 2)\n",
    "    nmi = np.round(metrics.mutual_info_score(y, y_pred), 2)\n",
    "    ari = np.round(metrics.adjusted_rand_score(y, y_pred), 2)\n",
    "    loss = np.round(loss, 5)\n",
    "    print('Acc = %.5f, nmi = %.5f, ari = %.5f' % (acc, nmi, ari), ' ; loss=', loss)"
   ]
  },
  {
   "cell_type": "code",
   "execution_count": 264,
   "metadata": {},
   "outputs": [
    {
     "data": {
      "image/png": "[encoded data removed]",
      "text/plain": [
       "<Figure size 1008x720 with 2 Axes>"
      ]
     },
     "metadata": {},
     "output_type": "display_data"
    }
   ],
   "source": [
    "import matplotlib.pyplot as plt\n",
    "from sklearn.manifold import TSNE\n",
    "%matplotlib inline\n",
    "\n",
    "sns.set(font_scale=3)\n",
    "confusion_matrix = sklearn.metrics.confusion_matrix(y, y_pred)\n",
    "\n",
    "plt.figure(figsize=(14, 10))\n",
    "sns.heatmap(confusion_matrix, annot=True, fmt=\"d\", annot_kws={\"size\": 20});\n",
    "plt.title(\"Confusion matrix\", fontsize=30)\n",
    "plt.ylabel('True label', fontsize=25)\n",
    "plt.xlabel('Clustering label', fontsize=25)\n",
    "plt.show()"
   ]
  },
  {
   "cell_type": "code",
   "execution_count": 265,
   "metadata": {},
   "outputs": [],
   "source": [
    "def vis_data(x_train_encoded, y_train, vis_dim, n_predict, n_train, build_anim):\n",
    "    cmap = plt.get_cmap('rainbow', 10)\n",
    "\n",
    "    # 3-dim vis: show one view, then compile animated .gif of many angled views\n",
    "    if vis_dim == 3:\n",
    "        # Simple static figure\n",
    "        fig = plt.figure()\n",
    "        ax = plt.axes(projection='3d')\n",
    "        p = ax.scatter3D(x_train_encoded[:,0], x_train_encoded[:,1], x_train_encoded[:,2], \n",
    "                c=y_train[:n_predict], cmap=cmap, edgecolor='black')\n",
    "        fig.colorbar(p, drawedges=True)\n",
    "        plt.show()\n",
    "\n",
    "        # Build animation from many static figures\n",
    "        if build_anim:\n",
    "            angles = np.linspace(180, 360, 20)\n",
    "            i = 0\n",
    "            for angle in angles:\n",
    "                fig = plt.figure()\n",
    "                ax = plt.axes(projection='3d')\n",
    "                ax.view_init(10, angle)\n",
    "                p = ax.scatter3D(x_train_encoded[:,0], x_train_encoded[:,1], x_train_encoded[:,2], \n",
    "                        c=y_train[:n_predict], cmap=cmap, edgecolor='black')\n",
    "                fig.colorbar(p, drawedges=True)\n",
    "                outfile = 'anim/3dplot_step_' + chr(i + 97) + '.png'\n",
    "                plt.savefig(outfile, dpi=96)\n",
    "                i += 1\n",
    "            call(['convert', '-delay', '50', 'anim/3dplot*', 'anim/3dplot_anim_' + str(n_train) + '.gif'])\n",
    "\n",
    "    # 2-dim vis: plot and colorbar.\n",
    "    elif vis_dim == 2:\n",
    "        plt.scatter(x_train_encoded[:,0], x_train_encoded[:,1], \n",
    "                c=y_train[:n_predict], edgecolor='black', cmap=cmap)\n",
    "        plt.colorbar(drawedges=True)\n",
    "        plt.show()"
   ]
  },
  {
   "cell_type": "code",
   "execution_count": 266,
   "metadata": {},
   "outputs": [],
   "source": [
    "# Encode a number of MNIST digits, then perform t-SNE dim-reduction.\n",
    "x_train_predict = encoder.predict(data)\n",
    "\n",
    "#print \"Performing t-SNE dimensionality reduction...\"\n",
    "x_train_encoded = TSNE(n_components=2).fit_transform(x_train_predict)\n",
    "#np.save('%sx_%sdim_tnse_%s.npy' % (266, 2, 266), x_train_encoded)\n",
    "#x_train_encoded = np.load(str(n_predict) + 'x_' + str(vis_dim) + 'dim_tnse_' + str(n_train) + '.npy')\n"
   ]
  },
  {
   "cell_type": "code",
   "execution_count": 267,
   "metadata": {},
   "outputs": [
    {
     "data": {
      "image/png": "[encoded data removed]",
      "text/plain": [
       "<Figure size 432x288 with 2 Axes>"
      ]
     },
     "metadata": {},
     "output_type": "display_data"
    }
   ],
   "source": [
    "# Visualize result.\n",
    "train_new = False\n",
    "n_train = 70000\n",
    "predict_new = False\n",
    "n_predict = 70000\n",
    "vis_dim = 2\n",
    "build_anim = False\n",
    "    \n",
    "vis_data(x_train_encoded, y, vis_dim, n_predict, n_train, build_anim)"
   ]
  },
  {
   "cell_type": "code",
   "execution_count": 1,
   "metadata": {},
   "outputs": [],
   "source": [
    "import sklearn"
   ]
  },
  {
   "cell_type": "code",
   "execution_count": 3,
   "metadata": {},
   "outputs": [
    {
     "data": {
      "text/plain": [
       "'0.21.3'"
      ]
     },
     "execution_count": 3,
     "metadata": {},
     "output_type": "execute_result"
    }
   ],
   "source": [
    "sklearn.__version__"
   ]
  },
  {
   "cell_type": "code",
   "execution_count": null,
   "metadata": {},
   "outputs": [],
   "source": []
  }
 ],
 "metadata": {
  "kernelspec": {
   "display_name": "Python 3",
   "language": "python",
   "name": "python3"
  },
  "language_info": {
   "codemirror_mode": {
    "name": "ipython",
    "version": 3
   },
   "file_extension": ".py",
   "mimetype": "text/x-python",
   "name": "python",
   "nbconvert_exporter": "python",
   "pygments_lexer": "ipython3",
   "version": "3.5.2"
  }
 },
 "nbformat": 4,
 "nbformat_minor": 2
}
